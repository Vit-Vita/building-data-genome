{
  "nbformat": 4,
  "nbformat_minor": 0,
  "metadata": {
    "colab": {
      "provenance": [],
      "gpuType": "T4"
    },
    "kernelspec": {
      "name": "python3",
      "display_name": "Python 3"
    },
    "language_info": {
      "name": "python"
    },
    "accelerator": "GPU"
  },
  "cells": [
    {
      "cell_type": "markdown",
      "source": [
        "# Building Data Genome - Geographical Regions\n",
        "\n"
      ],
      "metadata": {
        "id": "7FaDPurFCNr9"
      }
    },
    {
      "cell_type": "code",
      "source": [
        "#Installation"
      ],
      "metadata": {
        "id": "YsvFPgNO-ITm"
      },
      "execution_count": null,
      "outputs": []
    },
    {
      "cell_type": "code",
      "execution_count": 8,
      "metadata": {
        "id": "jiiRW4335E5W",
        "collapsed": true
      },
      "outputs": [],
      "source": [
        "# Import required packages\n",
        "import pandas as pd\n",
        "import numpy as np\n",
        "from google.colab import drive\n",
        "\n",
        "\n",
        "pd.set_option('display.max_colwidth', None)"
      ]
    },
    {
      "cell_type": "code",
      "source": [
        "drive.mount('/content/drive')"
      ],
      "metadata": {
        "colab": {
          "base_uri": "https://localhost:8080/"
        },
        "id": "KwfRsdJFpC93",
        "outputId": "482ac46d-7ab7-41e9-fff5-bd92fa9da394"
      },
      "execution_count": 15,
      "outputs": [
        {
          "output_type": "stream",
          "name": "stdout",
          "text": [
            "Drive already mounted at /content/drive; to attempt to forcibly remount, call drive.mount(\"/content/drive\", force_remount=True).\n"
          ]
        }
      ]
    },
    {
      "cell_type": "code",
      "source": [
        "!pwd"
      ],
      "metadata": {
        "colab": {
          "base_uri": "https://localhost:8080/"
        },
        "id": "221WHYBN78rz",
        "outputId": "e247ac2a-7e01-437b-a57c-333b7a14abf1"
      },
      "execution_count": 16,
      "outputs": [
        {
          "output_type": "stream",
          "name": "stdout",
          "text": [
            "/content\n"
          ]
        }
      ]
    },
    {
      "cell_type": "code",
      "source": [
        "!ls '/content/drive/MyDrive/Colab Notebooks/Energy Systems/data/'"
      ],
      "metadata": {
        "colab": {
          "base_uri": "https://localhost:8080/"
        },
        "id": "IzDgr2C_7JOy",
        "outputId": "b0267ef2-ea26-44f7-ca60-ddf26d5d93c5"
      },
      "execution_count": 25,
      "outputs": [
        {
          "output_type": "stream",
          "name": "stdout",
          "text": [
            "chilledwater_cleaned.csv  hotwater_cleaned.csv\t  steam_cleaned.csv\n",
            "electricity_cleaned.csv   irrigation_cleaned.csv  water_cleaned.csv\n",
            "gas_cleaned.csv\t\t  solar_cleaned.csv\t  weather.csv\n"
          ]
        }
      ]
    },
    {
      "cell_type": "code",
      "source": [
        "#Import csv data into dataframes\n",
        "df_solar = pd.read_csv('/content/drive/MyDrive/Colab Notebooks/Energy Systems/data/solar_cleaned.csv')\n",
        "df_water = pd.read_csv('/content/drive/MyDrive/Colab Notebooks/Energy Systems/data/water_cleaned.csv')\n",
        "df_electricity = pd.read_csv('/content/drive/MyDrive/Colab Notebooks/Energy Systems/data/electricity_cleaned.csv')\n",
        "df_gas = pd.read_csv('/content/drive/MyDrive/Colab Notebooks/Energy Systems/data/gas_cleaned.csv')\n",
        "df_hotwater = pd.read_csv('/content/drive/MyDrive/Colab Notebooks/Energy Systems/data/hotwater_cleaned.csv')\n",
        "df_irrigation = pd.read_csv('/content/drive/MyDrive/Colab Notebooks/Energy Systems/data/irrigation_cleaned.csv')\n",
        "df_solar = pd.read_csv('/content/drive/MyDrive/Colab Notebooks/Energy Systems/data/solar_cleaned.csv')\n",
        "df_steam = pd.read_csv('/content/drive/MyDrive/Colab Notebooks/Energy Systems/data/steam_cleaned.csv')\n",
        "\n",
        "df_metadata = pd.read_csv('/content/drive/MyDrive/Colab Notebooks/Energy Systems/data/metadata.csv')"
      ],
      "metadata": {
        "id": "z-6V3NB-SpI4"
      },
      "execution_count": 31,
      "outputs": []
    },
    {
      "cell_type": "code",
      "source": [],
      "metadata": {
        "id": "UWc0wfpd95XQ"
      },
      "execution_count": null,
      "outputs": []
    }
  ]
}